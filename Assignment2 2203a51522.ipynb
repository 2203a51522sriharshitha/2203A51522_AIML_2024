{
  "nbformat": 4,
  "nbformat_minor": 0,
  "metadata": {
    "colab": {
      "provenance": []
    },
    "kernelspec": {
      "name": "python3",
      "display_name": "Python 3"
    },
    "language_info": {
      "name": "python"
    }
  },
  "cells": [
    {
      "cell_type": "code",
      "execution_count": null,
      "metadata": {
        "id": "1596zYjUQgkm"
      },
      "outputs": [],
      "source": []
    },
    {
      "cell_type": "markdown",
      "source": [
        "Part-1 Implementation of breadth-first search algorithm using a queue.\n"
      ],
      "metadata": {
        "id": "KDgJVRq0QprC"
      }
    },
    {
      "cell_type": "code",
      "source": [
        "from queue import Queue\n",
        "\n",
        "graph = {0:[1,3], 1:[0, 2, 3], 2: [4, 1, 5], 3: [4, 0, 1], 4: [2, 3, 5], 5: [4, 2], 6:[]}\n",
        "print(\"The adjacency list representing the graph is:\")\n",
        "print(graph)\n",
        "\n",
        "def bfs(graph, source):\n",
        "    q = Queue()\n",
        "    visited_vertices = set()\n",
        "    q.put(source)\n",
        "    visited_vertices.update({source})\n",
        "    while not q.empty():\n",
        "        vertex = q.get()\n",
        "        print(vertex, end=\"-->\")\n",
        "        for u in graph[vertex]:\n",
        "            if u not in visited_vertices:\n",
        "                q.put(u)\n",
        "                visited_vertices.update({u})\n",
        "\n",
        "print(\"\\nBFS traversal of graph with source 0 is:\")\n",
        "bfs(graph, 0)\n"
      ],
      "metadata": {
        "colab": {
          "base_uri": "https://localhost:8080/"
        },
        "id": "wQEAuimeQ3j3",
        "outputId": "ce763c85-260b-4607-f8da-40ce3531f793"
      },
      "execution_count": null,
      "outputs": [
        {
          "output_type": "stream",
          "name": "stdout",
          "text": [
            "The adjacency list representing the graph is:\n",
            "{0: [1, 3], 1: [0, 2, 3], 2: [4, 1, 5], 3: [4, 0, 1], 4: [2, 3, 5], 5: [4, 2], 6: []}\n",
            "\n",
            "BFS traversal of graph with source 0 is:\n",
            "0-->1-->3-->2-->4-->5-->"
          ]
        }
      ]
    },
    {
      "cell_type": "code",
      "source": [],
      "metadata": {
        "id": "ssv426dNU1OA"
      },
      "execution_count": null,
      "outputs": []
    },
    {
      "cell_type": "markdown",
      "source": [
        "part-2 implementation of dfs algorithm"
      ],
      "metadata": {
        "id": "5p5Dvb90VWO3"
      }
    },
    {
      "cell_type": "code",
      "source": [
        "graph = {\n",
        "  'A' : ['B','S'],\n",
        "  'B' : ['A'],\n",
        "  'C' : ['D', 'E', 'F', 'S'],\n",
        "  'D' : ['C'],\n",
        "  'E' : ['C','H'],\n",
        "  'F' : ['C','G'],\n",
        "  'G' : ['F','S', 'H'],\n",
        "  'H' : ['E','G'],\n",
        "  'S' : ['A', 'C', 'G']\n",
        "}\n",
        "\n",
        "def dfs(graph, node, visited):\n",
        "  if node not in visited:\n",
        "    visited.append(node)\n",
        "    for k in graph[node]:\n",
        "      dfs(graph, k, visited)\n",
        "  return visited\n",
        "\n",
        "visited = dfs(graph, 'D', [])\n",
        "print(visited)"
      ],
      "metadata": {
        "colab": {
          "base_uri": "https://localhost:8080/"
        },
        "id": "UkyT3I4tVf0F",
        "outputId": "f4766e55-0e16-4aac-96b0-af0f241f0f02"
      },
      "execution_count": null,
      "outputs": [
        {
          "output_type": "stream",
          "name": "stdout",
          "text": [
            "['D', 'C', 'E', 'H', 'G', 'F', 'S', 'A', 'B']\n"
          ]
        }
      ]
    },
    {
      "cell_type": "markdown",
      "source": [
        "Part-3 Implementation of A* algorithum\n"
      ],
      "metadata": {
        "id": "zJDJvgKH_eXj"
      }
    },
    {
      "cell_type": "code",
      "source": [
        "import numpy as np\n",
        "from queue import PriorityQueue\n",
        "\n",
        "def astar(grid, start, goal):\n",
        "    def heuristic(a, b):\n",
        "        return np.sqrt((b[0] - a[0])**2 + (b[1] - a[1])**2)\n",
        "\n",
        "    def get_neighbors(node):\n",
        "        neighbors = []\n",
        "        for dx in [-1, 0, 1]:\n",
        "            for dy in [-1, 0, 1]:\n",
        "                if dx == 0 and dy == 0:\n",
        "                    continue\n",
        "                x, y = node[0] + dx, node[1] + dy\n",
        "                if 0 <= x < grid.shape[0] and 0 <= y < grid.shape[1] and grid[x, y] != 1:\n",
        "                    neighbors.append((x, y))\n",
        "        return neighbors\n",
        "\n",
        "    open_list = PriorityQueue()\n",
        "    open_list.put((0, start))\n",
        "    came_from = {}\n",
        "    g_score = {start: 0}\n",
        "    f_score = {start: heuristic(start, goal)}\n",
        "\n",
        "    while not open_list.empty():\n",
        "        current = open_list.get()[1]\n",
        "        if current == goal:\n",
        "            path = []\n",
        "            while current in came_from:\n",
        "                path.append(current)\n",
        "                current = came_from[current]\n",
        "            return path[::-1]\n",
        "\n",
        "        for neighbor in get_neighbors(current):\n",
        "            tentative_g_score = g_score[current] + heuristic(current, neighbor)\n",
        "            if neighbor not in g_score or tentative_g_score < g_score[neighbor]:\n",
        "                came_from[neighbor] = current\n",
        "                g_score[neighbor] = tentative_g_score\n",
        "                f_score[neighbor] = tentative_g_score + heuristic(neighbor, goal)\n",
        "                open_list.put((f_score[neighbor], neighbor))\n",
        "\n",
        "    return None\n",
        "\n",
        "# Example usage:\n",
        "grid = np.array([[0, 0, 0, 0, 0],\n",
        "                 [0, 1, 1, 0, 0],\n",
        "                 [0, 0, 0, 0, 0],\n",
        "                 [0, 0, 1, 1, 0],\n",
        "                 [0, 0, 0, 0, 0]])\n",
        "\n",
        "start = (0, 0)\n",
        "goal = (4, 4)\n",
        "\n",
        "path = astar(grid, start, goal)\n",
        "print(\"Path found:\", path)\n"
      ],
      "metadata": {
        "colab": {
          "base_uri": "https://localhost:8080/"
        },
        "id": "tMAQZPJE_d-B",
        "outputId": "52f86103-dca3-454a-871a-9d98933e2e15"
      },
      "execution_count": 1,
      "outputs": [
        {
          "output_type": "stream",
          "name": "stdout",
          "text": [
            "Path found: [(1, 0), (2, 1), (2, 2), (2, 3), (3, 4), (4, 4)]\n"
          ]
        }
      ]
    }
  ]
}